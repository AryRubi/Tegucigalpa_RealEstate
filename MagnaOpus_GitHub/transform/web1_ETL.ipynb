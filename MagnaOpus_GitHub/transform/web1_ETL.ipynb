{
 "cells": [
  {
   "cell_type": "code",
   "execution_count": 40,
   "metadata": {},
   "outputs": [],
   "source": [
    "import pandas as pd\n",
    "import numpy as np\n",
    "import os"
   ]
  },
  {
   "cell_type": "code",
   "execution_count": 41,
   "metadata": {},
   "outputs": [],
   "source": [
    "def merge_csv_files(folder_path, output_file):\n",
    "    csv_files = [file for file in os.listdir(folder_path) if file.endswith('.csv')]\n",
    "\n",
    "    merged_data = pd.DataFrame()\n",
    "\n",
    "    for file in csv_files:\n",
    "        file_path = os.path.join(folder_path, file)\n",
    "        df = pd.read_csv(file_path)\n",
    "        merged_data = pd.concat([merged_data, df], ignore_index=True)\n",
    "\n",
    "    merged_data.to_csv(output_file, index=False)\n",
    "    print(f\"Merged data saved to {output_file}.\")"
   ]
  },
  {
   "cell_type": "code",
   "execution_count": 42,
   "metadata": {},
   "outputs": [
    {
     "name": "stdout",
     "output_type": "stream",
     "text": [
      "Merged data saved to /Users/aryrubi/Desktop/Python_projects/MagnaOpus/cleaning/merged/housing1_merged.csv.\n"
     ]
    }
   ],
   "source": [
    "if __name__ == \"__main__\":\n",
    "    data_folder = \"MagnaOpus_GitHub/transform/housing1\"\n",
    "    output_csv_file = \"MagnaOpus_GitHub/transform/merged/housing1_merged.csv\"\n",
    "    merge_csv_files(data_folder, output_csv_file)"
   ]
  },
  {
   "cell_type": "code",
   "execution_count": 43,
   "metadata": {},
   "outputs": [
    {
     "name": "stdout",
     "output_type": "stream",
     "text": [
      "<class 'pandas.core.frame.DataFrame'>\n",
      "RangeIndex: 247 entries, 0 to 246\n",
      "Data columns (total 25 columns):\n",
      " #   Column         Non-Null Count  Dtype \n",
      "---  ------         --------------  ----- \n",
      " 0   Precio         247 non-null    object\n",
      " 1   URLs           247 non-null    object\n",
      " 2   Detalle1       247 non-null    object\n",
      " 3   Detalle2       247 non-null    object\n",
      " 4   Detalle3       247 non-null    object\n",
      " 5   Detalle4       247 non-null    object\n",
      " 6   Detalle5       245 non-null    object\n",
      " 7   Detalle6       239 non-null    object\n",
      " 8   Detalle7       227 non-null    object\n",
      " 9   Detalle8       196 non-null    object\n",
      " 10  Detalle9       84 non-null     object\n",
      " 11  Info_basica1   247 non-null    object\n",
      " 12  Info_basica2   247 non-null    object\n",
      " 13  Info_basica3   238 non-null    object\n",
      " 14  Info_basica4   234 non-null    object\n",
      " 15  Info_basica5   219 non-null    object\n",
      " 16  Info_basica6   172 non-null    object\n",
      " 17  Info_basica7   112 non-null    object\n",
      " 18  Info_basica8   96 non-null     object\n",
      " 19  Info_basica9   65 non-null     object\n",
      " 20  Info_basica10  48 non-null     object\n",
      " 21  Info_basica11  37 non-null     object\n",
      " 22  Info_basica12  34 non-null     object\n",
      " 23  Info_basica13  12 non-null     object\n",
      " 24  Detalle10      3 non-null      object\n",
      "dtypes: object(25)\n",
      "memory usage: 48.4+ KB\n"
     ]
    }
   ],
   "source": [
    "df = pd.read_csv(output_csv_file)\n",
    "df.info()"
   ]
  },
  {
   "cell_type": "code",
   "execution_count": 44,
   "metadata": {},
   "outputs": [],
   "source": [
    "new_column_names = {'Detalle1': 'Tipo de Inmueble',\n",
    "                    'Detalle2': 'Ubicación',\n",
    "                    'Detalle3': 'Total construido',\n",
    "                    'Detalle4': 'Dormitorios',\n",
    "                    'Detalle5': \"Baños\",\n",
    "                    'Detalle6': 'Antiguedad',\n",
    "                    'Detalle7': 'Superficie cubierta',\n",
    "                    'Detalle8': 'Plantas',\n",
    "                    'Detalle9': '(REF.',\n",
    "                    'Info_basica1': 'Espacios',\n",
    "                    'Info_basica2': 'Recámaras',\n",
    "                    'Info_basica3': 'Baños',\n",
    "                    'Info_basica4': 'Medios baños',\n",
    "                    'Info_basica5': 'Estacionamientos',\n",
    "                    'Info_basica6': 'Zonificación',\n",
    "                    'Info_basica7': 'Pisos',\n",
    "                    'Info_basica8': 'Antigüedad',\n",
    "                    'Info_basica9': 'Situación',\n",
    "                    'Info_basica10': 'Mantenimiento',\n",
    "                    'Info_basica11': 'Orientación',\n",
    "                    'Info_basica12': 'Disposición',\n",
    "                    'Info_basica13': 'Condición'}\n",
    "df = df.rename(columns=new_column_names)\n"
   ]
  },
  {
   "cell_type": "code",
   "execution_count": 45,
   "metadata": {},
   "outputs": [],
   "source": [
    "def organize_data(df):\n",
    "    data_list = []\n",
    "    max_length = 0\n",
    "\n",
    "    for index, row in df.iterrows():\n",
    "        new_data = {}\n",
    "        for column in df.columns:\n",
    "            new_data[column] = []\n",
    "\n",
    "        for column, value in row.items():\n",
    "            if isinstance(value, str):\n",
    "                for new_column in new_data.keys():\n",
    "                    if value.startswith(new_column):\n",
    "                        new_data[new_column].append(value.replace(new_column, '').strip())\n",
    "                        break\n",
    "                else:\n",
    "                    new_data[column].append(value)\n",
    "            else:\n",
    "                new_data[column].append(value if isinstance(value, list) else [value] * max_length)\n",
    "\n",
    "        data_list.append(new_data)\n",
    "\n",
    "    return pd.DataFrame(data_list)\n",
    "\n"
   ]
  },
  {
   "cell_type": "code",
   "execution_count": 46,
   "metadata": {},
   "outputs": [],
   "source": [
    "def extract_single_value_or_none(df):\n",
    "    \"\"\"\n",
    "    Extract the single value from each list or assign None if the list is empty in each column of the DataFrame.\n",
    "\n",
    "    Parameters:\n",
    "        df (pd.DataFrame): The DataFrame to extract single values from.\n",
    "\n",
    "    Returns:\n",
    "        pd.DataFrame: A new DataFrame with single values extracted or None if the list is empty.\n",
    "    \"\"\"\n",
    "    extracted_data = {}\n",
    "\n",
    "    for column in df.columns:\n",
    "        extracted_data[column] = df[column].apply(lambda x: x[0] if isinstance(x, list) and len(x) > 0 else None)\n",
    "\n",
    "    return pd.DataFrame(extracted_data)\n"
   ]
  },
  {
   "cell_type": "code",
   "execution_count": 47,
   "metadata": {},
   "outputs": [],
   "source": [
    "organized_df = organize_data(df)\n",
    "extracted_df = extract_single_value_or_none(organized_df)"
   ]
  },
  {
   "cell_type": "code",
   "execution_count": 48,
   "metadata": {},
   "outputs": [
    {
     "data": {
      "text/html": [
       "<div>\n",
       "<style scoped>\n",
       "    .dataframe tbody tr th:only-of-type {\n",
       "        vertical-align: middle;\n",
       "    }\n",
       "\n",
       "    .dataframe tbody tr th {\n",
       "        vertical-align: top;\n",
       "    }\n",
       "\n",
       "    .dataframe thead th {\n",
       "        text-align: right;\n",
       "    }\n",
       "</style>\n",
       "<table border=\"1\" class=\"dataframe\">\n",
       "  <thead>\n",
       "    <tr style=\"text-align: right;\">\n",
       "      <th></th>\n",
       "      <th>Precio</th>\n",
       "      <th>URLs</th>\n",
       "      <th>Tipo de Inmueble</th>\n",
       "      <th>Ubicación</th>\n",
       "      <th>Total construido</th>\n",
       "      <th>Dormitorios</th>\n",
       "      <th>Baños</th>\n",
       "      <th>Antiguedad</th>\n",
       "      <th>Superficie cubierta</th>\n",
       "      <th>Plantas</th>\n",
       "      <th>...</th>\n",
       "      <th>Estacionamientos</th>\n",
       "      <th>Zonificación</th>\n",
       "      <th>Pisos</th>\n",
       "      <th>Antigüedad</th>\n",
       "      <th>Situación</th>\n",
       "      <th>Mantenimiento</th>\n",
       "      <th>Orientación</th>\n",
       "      <th>Disposición</th>\n",
       "      <th>Condición</th>\n",
       "      <th>Detalle10</th>\n",
       "    </tr>\n",
       "  </thead>\n",
       "  <tbody>\n",
       "    <tr>\n",
       "      <th>0</th>\n",
       "      <td>USD288,000</td>\n",
       "      <td>https://www.csbienesraices.com/p/4520734-Casa-...</td>\n",
       "      <td>Casa</td>\n",
       "      <td>Castaños Sur</td>\n",
       "      <td>269 m²</td>\n",
       "      <td>3</td>\n",
       "      <td>2</td>\n",
       "      <td>A Estrenar</td>\n",
       "      <td>269 m²</td>\n",
       "      <td>1</td>\n",
       "      <td>...</td>\n",
       "      <td>: 3</td>\n",
       "      <td>: D3</td>\n",
       "      <td>: 1</td>\n",
       "      <td>: A Estrenar</td>\n",
       "      <td>: Vacía</td>\n",
       "      <td>: $ 0</td>\n",
       "      <td>: Oeste</td>\n",
       "      <td>: Frente</td>\n",
       "      <td>[]</td>\n",
       "      <td>[]</td>\n",
       "    </tr>\n",
       "    <tr>\n",
       "      <th>1</th>\n",
       "      <td>USD395,000</td>\n",
       "      <td>https://www.csbienesraices.com/p/4671889-Casa-...</td>\n",
       "      <td>Casa</td>\n",
       "      <td>Cerro Azul</td>\n",
       "      <td>289 m²</td>\n",
       "      <td>3</td>\n",
       "      <td>3</td>\n",
       "      <td>A Estrenar</td>\n",
       "      <td>257 m²</td>\n",
       "      <td>2</td>\n",
       "      <td>...</td>\n",
       "      <td>: 4</td>\n",
       "      <td>: UR</td>\n",
       "      <td>: 2</td>\n",
       "      <td>: A Estrenar</td>\n",
       "      <td>: Vacía</td>\n",
       "      <td>: $ 75</td>\n",
       "      <td>: Sur</td>\n",
       "      <td>: Frente</td>\n",
       "      <td>[]</td>\n",
       "      <td>[]</td>\n",
       "    </tr>\n",
       "    <tr>\n",
       "      <th>2</th>\n",
       "      <td>USD635,000</td>\n",
       "      <td>https://www.csbienesraices.com/p/5122560-Casa-...</td>\n",
       "      <td>Casa</td>\n",
       "      <td>Lomas del Mayab</td>\n",
       "      <td>456 m²</td>\n",
       "      <td>4</td>\n",
       "      <td>4</td>\n",
       "      <td>A Estrenar</td>\n",
       "      <td>456 m²</td>\n",
       "      <td>2</td>\n",
       "      <td>...</td>\n",
       "      <td>: 2</td>\n",
       "      <td>: R1</td>\n",
       "      <td>: 2</td>\n",
       "      <td>: A Estrenar</td>\n",
       "      <td>None</td>\n",
       "      <td>: $ 0</td>\n",
       "      <td>[]</td>\n",
       "      <td>[]</td>\n",
       "      <td>[]</td>\n",
       "      <td>[]</td>\n",
       "    </tr>\n",
       "    <tr>\n",
       "      <th>3</th>\n",
       "      <td>USD600,000</td>\n",
       "      <td>https://www.csbienesraices.com/p/5175000-Casa-...</td>\n",
       "      <td>Casa</td>\n",
       "      <td>Florencia Norte</td>\n",
       "      <td>526 m²</td>\n",
       "      <td>4</td>\n",
       "      <td>4</td>\n",
       "      <td>30</td>\n",
       "      <td>526 m²</td>\n",
       "      <td>2</td>\n",
       "      <td>...</td>\n",
       "      <td>: 4</td>\n",
       "      <td>: R1</td>\n",
       "      <td>: 2</td>\n",
       "      <td>: 30 Años</td>\n",
       "      <td>: Habitada</td>\n",
       "      <td>: $ 0</td>\n",
       "      <td>: Sur</td>\n",
       "      <td>: Frente</td>\n",
       "      <td>: Bueno</td>\n",
       "      <td>[]</td>\n",
       "    </tr>\n",
       "    <tr>\n",
       "      <th>4</th>\n",
       "      <td>USD115,500</td>\n",
       "      <td>https://www.csbienesraices.com/p/5160319-Casa-...</td>\n",
       "      <td>Casa</td>\n",
       "      <td>Tegucigalpa</td>\n",
       "      <td>105 m²</td>\n",
       "      <td>3</td>\n",
       "      <td>2</td>\n",
       "      <td>A Estrenar</td>\n",
       "      <td>None</td>\n",
       "      <td>2</td>\n",
       "      <td>...</td>\n",
       "      <td>: 1</td>\n",
       "      <td>: R2</td>\n",
       "      <td>: 2</td>\n",
       "      <td>: A Estrenar</td>\n",
       "      <td>None</td>\n",
       "      <td>: $ 0</td>\n",
       "      <td>[]</td>\n",
       "      <td>[]</td>\n",
       "      <td>: Excelente</td>\n",
       "      <td>[]</td>\n",
       "    </tr>\n",
       "  </tbody>\n",
       "</table>\n",
       "<p>5 rows × 24 columns</p>\n",
       "</div>"
      ],
      "text/plain": [
       "       Precio                                               URLs  \\\n",
       "0  USD288,000  https://www.csbienesraices.com/p/4520734-Casa-...   \n",
       "1  USD395,000  https://www.csbienesraices.com/p/4671889-Casa-...   \n",
       "2  USD635,000  https://www.csbienesraices.com/p/5122560-Casa-...   \n",
       "3  USD600,000  https://www.csbienesraices.com/p/5175000-Casa-...   \n",
       "4  USD115,500  https://www.csbienesraices.com/p/5160319-Casa-...   \n",
       "\n",
       "  Tipo de Inmueble        Ubicación Total construido Dormitorios Baños  \\\n",
       "0             Casa     Castaños Sur           269 m²           3     2   \n",
       "1             Casa       Cerro Azul           289 m²           3     3   \n",
       "2             Casa  Lomas del Mayab           456 m²           4     4   \n",
       "3             Casa  Florencia Norte           526 m²           4     4   \n",
       "4             Casa      Tegucigalpa           105 m²           3     2   \n",
       "\n",
       "   Antiguedad Superficie cubierta Plantas  ... Estacionamientos Zonificación  \\\n",
       "0  A Estrenar              269 m²       1  ...              : 3         : D3   \n",
       "1  A Estrenar              257 m²       2  ...              : 4         : UR   \n",
       "2  A Estrenar              456 m²       2  ...              : 2         : R1   \n",
       "3          30              526 m²       2  ...              : 4         : R1   \n",
       "4  A Estrenar                None       2  ...              : 1         : R2   \n",
       "\n",
       "  Pisos    Antigüedad   Situación Mantenimiento Orientación Disposición  \\\n",
       "0   : 1  : A Estrenar     : Vacía         : $ 0     : Oeste    : Frente   \n",
       "1   : 2  : A Estrenar     : Vacía        : $ 75       : Sur    : Frente   \n",
       "2   : 2  : A Estrenar        None         : $ 0          []          []   \n",
       "3   : 2     : 30 Años  : Habitada         : $ 0       : Sur    : Frente   \n",
       "4   : 2  : A Estrenar        None         : $ 0          []          []   \n",
       "\n",
       "     Condición Detalle10  \n",
       "0           []        []  \n",
       "1           []        []  \n",
       "2           []        []  \n",
       "3      : Bueno        []  \n",
       "4  : Excelente        []  \n",
       "\n",
       "[5 rows x 24 columns]"
      ]
     },
     "execution_count": 48,
     "metadata": {},
     "output_type": "execute_result"
    }
   ],
   "source": [
    "extracted_df.head()"
   ]
  },
  {
   "cell_type": "code",
   "execution_count": 49,
   "metadata": {},
   "outputs": [],
   "source": [
    "df_2 = extracted_df.drop(columns=['URLs', 'Recámaras', 'Tipo de Inmueble', 'Antiguedad', 'Superficie cubierta', 'Plantas', 'Espacios', 'Zonificación', 'Pisos', 'Antigüedad', 'Situación', 'Mantenimiento', 'Orientación', 'Disposición', 'Condición', 'Detalle10'])"
   ]
  },
  {
   "cell_type": "code",
   "execution_count": 50,
   "metadata": {},
   "outputs": [
    {
     "data": {
      "text/plain": [
       "Precio               0\n",
       "Ubicación            0\n",
       "Total construido     8\n",
       "Dormitorios         34\n",
       "Baños                6\n",
       "(REF.                0\n",
       "Medios baños        62\n",
       "Estacionamientos    39\n",
       "dtype: int64"
      ]
     },
     "execution_count": 50,
     "metadata": {},
     "output_type": "execute_result"
    }
   ],
   "source": [
    "df_2.isna().sum()\n"
   ]
  },
  {
   "cell_type": "code",
   "execution_count": 51,
   "metadata": {},
   "outputs": [
    {
     "data": {
      "text/plain": [
       "Precio               0\n",
       "Ubicación            0\n",
       "Total construido     8\n",
       "Dormitorios         34\n",
       "Baños                6\n",
       "(REF.                0\n",
       "Medios baños         0\n",
       "Estacionamientos     0\n",
       "dtype: int64"
      ]
     },
     "execution_count": 51,
     "metadata": {},
     "output_type": "execute_result"
    }
   ],
   "source": [
    "fill_values = {\n",
    "    'Medios baños': float(0),\n",
    "    'Estacionamientos': float(0)\n",
    "}\n",
    "\n",
    "# Fill specific columns with their corresponding fill values\n",
    "final_df = df_2.fillna(fill_values, inplace=False)\n",
    "final_df.isna().sum()"
   ]
  },
  {
   "cell_type": "code",
   "execution_count": 52,
   "metadata": {},
   "outputs": [],
   "source": [
    "clean_df = final_df.dropna()\n",
    "clean_df = clean_df[clean_df['Precio'] != 'N.A']"
   ]
  },
  {
   "cell_type": "code",
   "execution_count": 53,
   "metadata": {},
   "outputs": [
    {
     "name": "stderr",
     "output_type": "stream",
     "text": [
      "/var/folders/j2/rnd6rd7x5fdfxh0vj53x3fqh0000gn/T/ipykernel_87281/2854641037.py:1: FutureWarning: The default value of regex will change from True to False in a future version.\n",
      "  clean_df['(REF.'] = clean_df['(REF.'].str.replace(r'\\(|\\)', '')\n"
     ]
    }
   ],
   "source": [
    "clean_df['(REF.'] = clean_df['(REF.'].str.replace(r'\\(|\\)', '')\n",
    "clean_df['Precio'] = clean_df['Precio'].str.replace(r'[^0-9.-]', '', regex=True).astype(float)\n",
    "clean_df['Total construido'] = clean_df['Total construido'].str.replace(r'[^0-9.-]', '', regex=True).astype(float)\n",
    "clean_df['Dormitorios'] = clean_df['Dormitorios'].str.replace(r'[^0-9.-]', '', regex=True).astype(float)\n",
    "clean_df['Baños'] = clean_df['Baños'].str.replace(r'[^0-9.-]', '', regex=True).astype(float)\n",
    "clean_df['Medios baños'] = clean_df['Medios baños'].str.replace(r'[^0-9.-]', '', regex=True).astype(float)\n",
    "clean_df['Estacionamientos'] = clean_df['Estacionamientos'].str.replace(r'[^0-9.-]', '', regex=True).astype(float)"
   ]
  },
  {
   "cell_type": "code",
   "execution_count": 54,
   "metadata": {},
   "outputs": [],
   "source": [
    "fill_values = {\n",
    "    'Medios baños': float(0),\n",
    "    'Estacionamientos': float(0)\n",
    "}\n",
    "\n",
    "# Fill specific columns with their corresponding fill values\n",
    "clean_df = clean_df.fillna(fill_values, inplace=False)"
   ]
  },
  {
   "cell_type": "code",
   "execution_count": 55,
   "metadata": {},
   "outputs": [],
   "source": [
    "#clean_df['Medios baños'] = pd.to_numeric(clean_df['Medios baños'], errors='coerce')\n",
    "\n",
    "# Transform values in 'Medios baños' by dividing them by 2\n",
    "clean_df['Medios baños_Transformed'] = np.divide(clean_df['Medios baños'], 2)\n",
    "\n",
    "# Sum two specific columns: 'Column1' and 'Column2'\n",
    "clean_df['Total_Baños'] = clean_df['Baños'] + clean_df['Medios baños_Transformed']\n",
    "\n",
    "final_df = clean_df.drop(columns=['Medios baños', 'Baños', 'Medios baños_Transformed'])\n"
   ]
  },
  {
   "cell_type": "code",
   "execution_count": 56,
   "metadata": {},
   "outputs": [],
   "source": [
    "final_df.rename(columns={'(REF.': 'ID', 'Precio': 'usd_price', 'Ubicación': 'location', 'Dormitorios': 'bedrooms', 'Total_Baños': 'bathrooms', 'Estacionamientos': 'parking', 'Total construido': 'surface_m²'}, inplace=True)\n",
    "\n",
    "# Change data types of columns\n",
    "final_df['usd_price'] = final_df['usd_price'].astype(float)\n",
    "final_df['bedrooms'] = final_df['bedrooms'].astype(int)\n",
    "final_df['bathrooms'] = final_df['bathrooms'].astype(float)\n",
    "final_df['surface_m²'] = final_df['surface_m²'].astype(float)\n",
    "final_df['parking'] = final_df['parking'].astype(float)"
   ]
  },
  {
   "cell_type": "code",
   "execution_count": 57,
   "metadata": {},
   "outputs": [],
   "source": [
    "duplicates = final_df[final_df['ID'].duplicated()]\n",
    "\n",
    "# Dropping rows with duplicated IDs\n",
    "df_unique = final_df[~final_df['ID'].duplicated()]\n",
    "df_unique = df_unique.drop(columns=['ID'])"
   ]
  },
  {
   "cell_type": "code",
   "execution_count": 58,
   "metadata": {},
   "outputs": [],
   "source": [
    "df_unique.to_csv(\"MagnaOpus_GitHub/cleaning/data/web1_transformed_data.csv\", index = False)"
   ]
  }
 ],
 "metadata": {
  "kernelspec": {
   "display_name": "Python 3",
   "language": "python",
   "name": "python3"
  },
  "language_info": {
   "codemirror_mode": {
    "name": "ipython",
    "version": 3
   },
   "file_extension": ".py",
   "mimetype": "text/x-python",
   "name": "python",
   "nbconvert_exporter": "python",
   "pygments_lexer": "ipython3",
   "version": "3.9.6"
  },
  "orig_nbformat": 4
 },
 "nbformat": 4,
 "nbformat_minor": 2
}
