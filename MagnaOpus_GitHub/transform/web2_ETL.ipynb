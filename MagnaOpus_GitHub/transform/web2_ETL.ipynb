{
 "cells": [
  {
   "cell_type": "code",
   "execution_count": 31,
   "metadata": {},
   "outputs": [],
   "source": [
    "import pandas as pd\n",
    "import numpy as np\n",
    "import os"
   ]
  },
  {
   "cell_type": "code",
   "execution_count": 32,
   "metadata": {},
   "outputs": [],
   "source": [
    "def merge_csv_files(folder_path, output_file):\n",
    "    csv_files = [file for file in os.listdir(folder_path) if file.endswith('.csv')]\n",
    "\n",
    "    merged_data = pd.DataFrame()\n",
    "\n",
    "    for file in csv_files:\n",
    "        file_path = os.path.join(folder_path, file)\n",
    "        df = pd.read_csv(file_path)\n",
    "        merged_data = pd.concat([merged_data, df], ignore_index=True)\n",
    "\n",
    "    merged_data.to_csv(output_file, index=False)\n",
    "    print(f\"Merged data saved to {output_file}.\")"
   ]
  },
  {
   "cell_type": "code",
   "execution_count": 33,
   "metadata": {},
   "outputs": [
    {
     "name": "stdout",
     "output_type": "stream",
     "text": [
      "Merged data saved to /Users/aryrubi/Desktop/Python_projects/MagnaOpus/cleaning/merged/housing2_merged.csv.\n"
     ]
    }
   ],
   "source": [
    "if __name__ == \"__main__\":\n",
    "    data_folder = \"MagnaOpus_GitHub/transform/housing2\"\n",
    "    output_csv_file = \"MagnaOpus_GitHub/transform/merged/housing2_merged.csv\"\n",
    "    merge_csv_files(data_folder, output_csv_file)"
   ]
  },
  {
   "cell_type": "code",
   "execution_count": 34,
   "metadata": {},
   "outputs": [
    {
     "name": "stdout",
     "output_type": "stream",
     "text": [
      "<class 'pandas.core.frame.DataFrame'>\n",
      "RangeIndex: 142 entries, 0 to 141\n",
      "Data columns (total 20 columns):\n",
      " #   Column        Non-Null Count  Dtype \n",
      "---  ------        --------------  ----- \n",
      " 0   Precio        142 non-null    object\n",
      " 1   URLs          142 non-null    object\n",
      " 2   Detalle1      142 non-null    object\n",
      " 3   Detalle2      142 non-null    object\n",
      " 4   Detalle3      142 non-null    object\n",
      " 5   Detalle4      142 non-null    object\n",
      " 6   Detalle5      142 non-null    object\n",
      " 7   Detalle6      141 non-null    object\n",
      " 8   Detalle7      131 non-null    object\n",
      " 9   Detalle8      93 non-null     object\n",
      " 10  Detalle9      13 non-null     object\n",
      " 11  Info_basica1  142 non-null    object\n",
      " 12  Info_basica2  142 non-null    object\n",
      " 13  Info_basica3  142 non-null    object\n",
      " 14  Info_basica4  140 non-null    object\n",
      " 15  Info_basica5  138 non-null    object\n",
      " 16  Info_basica6  126 non-null    object\n",
      " 17  Info_basica7  116 non-null    object\n",
      " 18  Info_basica8  71 non-null     object\n",
      " 19  Info_basica9  8 non-null      object\n",
      "dtypes: object(20)\n",
      "memory usage: 22.3+ KB\n"
     ]
    }
   ],
   "source": [
    "df = pd.read_csv(output_csv_file)\n",
    "df.info()"
   ]
  },
  {
   "cell_type": "code",
   "execution_count": 35,
   "metadata": {},
   "outputs": [],
   "source": [
    "new_column_names = {'Detalle1': 'Tipo de Inmueble',\n",
    "                    'Detalle2': 'Ubicación',\n",
    "                    'Detalle3': 'Total construido',\n",
    "                    'Detalle4': 'Dormitorios',\n",
    "                    'Detalle5': \"Baños\",\n",
    "                    'Detalle6': 'Antiguedad',\n",
    "                    'Detalle7': 'Superficie cubierta',\n",
    "                    'Detalle8': 'Plantas',\n",
    "                    'Detalle9': '(REF.',\n",
    "                    'Info_basica1': 'Espacios',\n",
    "                    'Info_basica2': 'Recámaras',\n",
    "                    'Info_basica3': 'Baños',\n",
    "                    'Info_basica4': 'Medios baños',\n",
    "                    'Info_basica5': 'Estacionamientos',\n",
    "                    'Info_basica6': 'Pisos',\n",
    "                    'Info_basica7': 'Antigüedad',\n",
    "                    'Info_basica8': 'Mantenimiento',\n",
    "                    'Info_basica9': 'Condición',\n",
    "                    'Info_basica10': 'Situación',\n",
    "                    'Info_basica11': 'Condición'}\n",
    "df = df.rename(columns=new_column_names)\n"
   ]
  },
  {
   "cell_type": "code",
   "execution_count": 36,
   "metadata": {},
   "outputs": [],
   "source": [
    "def organize_data(df):\n",
    "    data_list = []\n",
    "    max_length = 0\n",
    "\n",
    "    for index, row in df.iterrows():\n",
    "        new_data = {}\n",
    "        for column in df.columns:\n",
    "            new_data[column] = []\n",
    "\n",
    "        for column, value in row.items():\n",
    "            if isinstance(value, str):\n",
    "                for new_column in new_data.keys():\n",
    "                    if value.startswith(new_column):\n",
    "                        new_data[new_column].append(value.replace(new_column, '').strip())\n",
    "                        break\n",
    "                else:\n",
    "                    new_data[column].append(value)\n",
    "            else:\n",
    "                new_data[column].append(value if isinstance(value, list) else [value] * max_length)\n",
    "\n",
    "        data_list.append(new_data)\n",
    "\n",
    "    return pd.DataFrame(data_list)\n",
    "\n"
   ]
  },
  {
   "cell_type": "code",
   "execution_count": 37,
   "metadata": {},
   "outputs": [],
   "source": [
    "def extract_single_value_or_none(df):\n",
    "    \"\"\"\n",
    "    Extract the single value from each list or assign None if the list is empty in each column of the DataFrame.\n",
    "\n",
    "    Parameters:\n",
    "        df (pd.DataFrame): The DataFrame to extract single values from.\n",
    "\n",
    "    Returns:\n",
    "        pd.DataFrame: A new DataFrame with single values extracted or None if the list is empty.\n",
    "    \"\"\"\n",
    "    extracted_data = {}\n",
    "\n",
    "    for column in df.columns:\n",
    "        extracted_data[column] = df[column].apply(lambda x: x[0] if isinstance(x, list) and len(x) > 0 else None)\n",
    "\n",
    "    return pd.DataFrame(extracted_data)\n"
   ]
  },
  {
   "cell_type": "code",
   "execution_count": 38,
   "metadata": {},
   "outputs": [],
   "source": [
    "organized_df = organize_data(df)\n",
    "extracted_df = extract_single_value_or_none(organized_df)"
   ]
  },
  {
   "cell_type": "code",
   "execution_count": 39,
   "metadata": {},
   "outputs": [
    {
     "data": {
      "text/html": [
       "<div>\n",
       "<style scoped>\n",
       "    .dataframe tbody tr th:only-of-type {\n",
       "        vertical-align: middle;\n",
       "    }\n",
       "\n",
       "    .dataframe tbody tr th {\n",
       "        vertical-align: top;\n",
       "    }\n",
       "\n",
       "    .dataframe thead th {\n",
       "        text-align: right;\n",
       "    }\n",
       "</style>\n",
       "<table border=\"1\" class=\"dataframe\">\n",
       "  <thead>\n",
       "    <tr style=\"text-align: right;\">\n",
       "      <th></th>\n",
       "      <th>Precio</th>\n",
       "      <th>URLs</th>\n",
       "      <th>Tipo de Inmueble</th>\n",
       "      <th>Ubicación</th>\n",
       "      <th>Total construido</th>\n",
       "      <th>Dormitorios</th>\n",
       "      <th>Baños</th>\n",
       "      <th>Antiguedad</th>\n",
       "      <th>Superficie cubierta</th>\n",
       "      <th>Plantas</th>\n",
       "      <th>(REF.</th>\n",
       "      <th>Espacios</th>\n",
       "      <th>Recámaras</th>\n",
       "      <th>Medios baños</th>\n",
       "      <th>Estacionamientos</th>\n",
       "      <th>Pisos</th>\n",
       "      <th>Antigüedad</th>\n",
       "      <th>Mantenimiento</th>\n",
       "      <th>Condición</th>\n",
       "    </tr>\n",
       "  </thead>\n",
       "  <tbody>\n",
       "    <tr>\n",
       "      <th>0</th>\n",
       "      <td>USD275,000</td>\n",
       "      <td>https://www.innovabienesraiceshonduras.com/p/2...</td>\n",
       "      <td>Casa</td>\n",
       "      <td>Tres Caminos</td>\n",
       "      <td>366 m²</td>\n",
       "      <td>3</td>\n",
       "      <td>3</td>\n",
       "      <td>A Estrenar</td>\n",
       "      <td>None</td>\n",
       "      <td>[]</td>\n",
       "      <td>1509)</td>\n",
       "      <td>: 4</td>\n",
       "      <td>: 3</td>\n",
       "      <td>: 1</td>\n",
       "      <td>: 2</td>\n",
       "      <td>None</td>\n",
       "      <td>: A Estrenar</td>\n",
       "      <td>: $ 0</td>\n",
       "      <td>[]</td>\n",
       "    </tr>\n",
       "    <tr>\n",
       "      <th>1</th>\n",
       "      <td>USD404,695</td>\n",
       "      <td>https://www.innovabienesraiceshonduras.com/p/4...</td>\n",
       "      <td>Casa</td>\n",
       "      <td>Lomas del Mayab</td>\n",
       "      <td>518 m²</td>\n",
       "      <td>3</td>\n",
       "      <td>2</td>\n",
       "      <td>14</td>\n",
       "      <td>None</td>\n",
       "      <td>2</td>\n",
       "      <td>2055)</td>\n",
       "      <td>: 3</td>\n",
       "      <td>: 3</td>\n",
       "      <td>: 1</td>\n",
       "      <td>: 6</td>\n",
       "      <td>: 2</td>\n",
       "      <td>: 14 Años</td>\n",
       "      <td>: $ 0</td>\n",
       "      <td>[]</td>\n",
       "    </tr>\n",
       "    <tr>\n",
       "      <th>2</th>\n",
       "      <td>USD976,000</td>\n",
       "      <td>https://www.innovabienesraiceshonduras.com/p/1...</td>\n",
       "      <td>Casa</td>\n",
       "      <td>Tepeyac</td>\n",
       "      <td>620 m²</td>\n",
       "      <td>5</td>\n",
       "      <td>5</td>\n",
       "      <td>32</td>\n",
       "      <td>None</td>\n",
       "      <td>3</td>\n",
       "      <td>1214)</td>\n",
       "      <td>: 6</td>\n",
       "      <td>: 5</td>\n",
       "      <td>: 1</td>\n",
       "      <td>: 2</td>\n",
       "      <td>: 3</td>\n",
       "      <td>: 32 Años</td>\n",
       "      <td>: $ 0</td>\n",
       "      <td>[]</td>\n",
       "    </tr>\n",
       "    <tr>\n",
       "      <th>3</th>\n",
       "      <td>USD260,000</td>\n",
       "      <td>https://www.innovabienesraiceshonduras.com/p/1...</td>\n",
       "      <td>Casa</td>\n",
       "      <td>Res. El Trapiche</td>\n",
       "      <td>218 m²</td>\n",
       "      <td>3</td>\n",
       "      <td>2</td>\n",
       "      <td>8</td>\n",
       "      <td>218 m²</td>\n",
       "      <td>2</td>\n",
       "      <td>301)</td>\n",
       "      <td>: 3</td>\n",
       "      <td>: 3</td>\n",
       "      <td>: 1</td>\n",
       "      <td>: 2</td>\n",
       "      <td>: 2</td>\n",
       "      <td>: 8 Años</td>\n",
       "      <td>: $ 0</td>\n",
       "      <td>[]</td>\n",
       "    </tr>\n",
       "    <tr>\n",
       "      <th>4</th>\n",
       "      <td>USD270,000</td>\n",
       "      <td>https://www.innovabienesraiceshonduras.com/p/1...</td>\n",
       "      <td>Casa</td>\n",
       "      <td>Palma Real</td>\n",
       "      <td>329 m²</td>\n",
       "      <td>3</td>\n",
       "      <td>4</td>\n",
       "      <td>20</td>\n",
       "      <td>None</td>\n",
       "      <td>2</td>\n",
       "      <td>229)</td>\n",
       "      <td>: 5</td>\n",
       "      <td>: 3</td>\n",
       "      <td>None</td>\n",
       "      <td>: 2</td>\n",
       "      <td>: 2</td>\n",
       "      <td>: 20 Años</td>\n",
       "      <td>: $ 0</td>\n",
       "      <td>[]</td>\n",
       "    </tr>\n",
       "  </tbody>\n",
       "</table>\n",
       "</div>"
      ],
      "text/plain": [
       "       Precio                                               URLs  \\\n",
       "0  USD275,000  https://www.innovabienesraiceshonduras.com/p/2...   \n",
       "1  USD404,695  https://www.innovabienesraiceshonduras.com/p/4...   \n",
       "2  USD976,000  https://www.innovabienesraiceshonduras.com/p/1...   \n",
       "3  USD260,000  https://www.innovabienesraiceshonduras.com/p/1...   \n",
       "4  USD270,000  https://www.innovabienesraiceshonduras.com/p/1...   \n",
       "\n",
       "  Tipo de Inmueble         Ubicación Total construido Dormitorios Baños  \\\n",
       "0             Casa      Tres Caminos           366 m²           3     3   \n",
       "1             Casa   Lomas del Mayab           518 m²           3     2   \n",
       "2             Casa           Tepeyac           620 m²           5     5   \n",
       "3             Casa  Res. El Trapiche           218 m²           3     2   \n",
       "4             Casa        Palma Real           329 m²           3     4   \n",
       "\n",
       "   Antiguedad Superficie cubierta Plantas  (REF. Espacios Recámaras  \\\n",
       "0  A Estrenar                None      []  1509)      : 4       : 3   \n",
       "1          14                None       2  2055)      : 3       : 3   \n",
       "2          32                None       3  1214)      : 6       : 5   \n",
       "3           8              218 m²       2   301)      : 3       : 3   \n",
       "4          20                None       2   229)      : 5       : 3   \n",
       "\n",
       "  Medios baños Estacionamientos Pisos    Antigüedad Mantenimiento Condición  \n",
       "0          : 1              : 2  None  : A Estrenar         : $ 0        []  \n",
       "1          : 1              : 6   : 2     : 14 Años         : $ 0        []  \n",
       "2          : 1              : 2   : 3     : 32 Años         : $ 0        []  \n",
       "3          : 1              : 2   : 2      : 8 Años         : $ 0        []  \n",
       "4         None              : 2   : 2     : 20 Años         : $ 0        []  "
      ]
     },
     "execution_count": 39,
     "metadata": {},
     "output_type": "execute_result"
    }
   ],
   "source": [
    "extracted_df.head()"
   ]
  },
  {
   "cell_type": "code",
   "execution_count": 40,
   "metadata": {},
   "outputs": [],
   "source": [
    "df_2 = extracted_df.drop(columns=['URLs', 'Recámaras', 'Tipo de Inmueble', 'Antiguedad', 'Superficie cubierta', 'Plantas', 'Espacios', 'Pisos', 'Antigüedad', 'Mantenimiento', 'Condición'])"
   ]
  },
  {
   "cell_type": "code",
   "execution_count": 41,
   "metadata": {},
   "outputs": [
    {
     "data": {
      "text/plain": [
       "Precio               0\n",
       "Ubicación            0\n",
       "Total construido    16\n",
       "Dormitorios          3\n",
       "Baños                4\n",
       "(REF.                0\n",
       "Medios baños        22\n",
       "Estacionamientos    23\n",
       "dtype: int64"
      ]
     },
     "execution_count": 41,
     "metadata": {},
     "output_type": "execute_result"
    }
   ],
   "source": [
    "df_2.isna().sum()\n"
   ]
  },
  {
   "cell_type": "code",
   "execution_count": 42,
   "metadata": {},
   "outputs": [
    {
     "data": {
      "text/plain": [
       "Precio               0\n",
       "Ubicación            0\n",
       "Total construido    16\n",
       "Dormitorios          3\n",
       "Baños                4\n",
       "(REF.                0\n",
       "Medios baños         0\n",
       "Estacionamientos     0\n",
       "dtype: int64"
      ]
     },
     "execution_count": 42,
     "metadata": {},
     "output_type": "execute_result"
    }
   ],
   "source": [
    "fill_values = {\n",
    "    'Medios baños': float(0),\n",
    "    'Estacionamientos': float(0)\n",
    "}\n",
    "\n",
    "# Fill specific columns with their corresponding fill values\n",
    "final_df = df_2.fillna(fill_values, inplace=False)\n",
    "final_df.isna().sum()"
   ]
  },
  {
   "cell_type": "code",
   "execution_count": 43,
   "metadata": {},
   "outputs": [],
   "source": [
    "clean_df = final_df.dropna()\n",
    "clean_df = clean_df[clean_df['Precio'] != 'N.A']"
   ]
  },
  {
   "cell_type": "code",
   "execution_count": 44,
   "metadata": {},
   "outputs": [
    {
     "name": "stderr",
     "output_type": "stream",
     "text": [
      "/var/folders/j2/rnd6rd7x5fdfxh0vj53x3fqh0000gn/T/ipykernel_92714/2854641037.py:1: FutureWarning: The default value of regex will change from True to False in a future version.\n",
      "  clean_df['(REF.'] = clean_df['(REF.'].str.replace(r'\\(|\\)', '')\n"
     ]
    }
   ],
   "source": [
    "clean_df['(REF.'] = clean_df['(REF.'].str.replace(r'\\(|\\)', '')\n",
    "clean_df['Precio'] = clean_df['Precio'].str.replace(r'[^0-9.-]', '', regex=True).astype(float)\n",
    "clean_df['Total construido'] = clean_df['Total construido'].str.replace(r'[^0-9.-]', '', regex=True).astype(float)\n",
    "clean_df['Dormitorios'] = clean_df['Dormitorios'].str.replace(r'[^0-9.-]', '', regex=True).astype(float)\n",
    "clean_df['Baños'] = clean_df['Baños'].str.replace(r'[^0-9.-]', '', regex=True).astype(float)\n",
    "clean_df['Medios baños'] = clean_df['Medios baños'].str.replace(r'[^0-9.-]', '', regex=True).astype(float)\n",
    "clean_df['Estacionamientos'] = clean_df['Estacionamientos'].str.replace(r'[^0-9.-]', '', regex=True).astype(float)"
   ]
  },
  {
   "cell_type": "code",
   "execution_count": 45,
   "metadata": {},
   "outputs": [],
   "source": [
    "fill_values = {\n",
    "    'Medios baños': float(0),\n",
    "    'Estacionamientos': float(0)\n",
    "}\n",
    "\n",
    "# Fill specific columns with their corresponding fill values\n",
    "clean_df = clean_df.fillna(fill_values, inplace=False)"
   ]
  },
  {
   "cell_type": "code",
   "execution_count": 46,
   "metadata": {},
   "outputs": [],
   "source": [
    "\n",
    "# Transform values in 'Medios baños' by dividing them by 2\n",
    "clean_df['Medios baños_Transformed'] = np.divide(clean_df['Medios baños'], 2)\n",
    "\n",
    "# Sum two specific columns: 'Column1' and 'Column2'\n",
    "clean_df['Total_Baños'] = clean_df['Baños'] + clean_df['Medios baños_Transformed']\n",
    "\n",
    "final_df = clean_df.drop(columns=['Medios baños', 'Baños', 'Medios baños_Transformed'])\n"
   ]
  },
  {
   "cell_type": "code",
   "execution_count": 47,
   "metadata": {},
   "outputs": [],
   "source": [
    "final_df.rename(columns={'(REF.': 'ID', 'Precio': 'usd_price', 'Ubicación': 'location', 'Dormitorios': 'bedrooms', 'Total_Baños': 'bathrooms', 'Estacionamientos': 'parking', 'Total construido': 'surface_m²'}, inplace=True)\n",
    "\n",
    "# Change data types of columns\n",
    "final_df['usd_price'] = final_df['usd_price'].astype(float)\n",
    "final_df['bedrooms'] = final_df['bedrooms'].astype(int)\n",
    "final_df['bathrooms'] = final_df['bathrooms'].astype(float)\n",
    "final_df['surface_m²'] = final_df['surface_m²'].astype(float)\n",
    "final_df['parking'] = final_df['parking'].astype(float)"
   ]
  },
  {
   "cell_type": "code",
   "execution_count": 48,
   "metadata": {},
   "outputs": [],
   "source": [
    "duplicates = final_df[final_df['ID'].duplicated()]\n",
    "\n",
    "# Dropping rows with duplicated IDs\n",
    "df_unique = final_df[~final_df['ID'].duplicated()]\n",
    "df_unique = df_unique.drop(columns=['ID'])"
   ]
  },
  {
   "cell_type": "code",
   "execution_count": 49,
   "metadata": {},
   "outputs": [],
   "source": [
    "df_unique.to_csv(\"MagnaOpus_GitHub/cleaning/data/web2_transformed_data.csv\", index = False)"
   ]
  }
 ],
 "metadata": {
  "kernelspec": {
   "display_name": "Python 3",
   "language": "python",
   "name": "python3"
  },
  "language_info": {
   "codemirror_mode": {
    "name": "ipython",
    "version": 3
   },
   "file_extension": ".py",
   "mimetype": "text/x-python",
   "name": "python",
   "nbconvert_exporter": "python",
   "pygments_lexer": "ipython3",
   "version": "3.9.6"
  },
  "orig_nbformat": 4
 },
 "nbformat": 4,
 "nbformat_minor": 2
}
